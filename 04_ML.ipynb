{
 "cells": [
  {
   "cell_type": "markdown",
   "metadata": {},
   "source": [
    "Written By: Hafiz Waleed Ahmad\\\n",
    "Email: waleedrajpoot5657@gmail.com\\\n",
    "Title: Outliers"
   ]
  },
  {
   "cell_type": "markdown",
   "metadata": {},
   "source": [
    "Types of outliers:\n",
    "   1. **Univariate outliers**\n",
    "   2. **Multivariate outliers**\n",
    "   3. **Global outliers**\n",
    "   4. **Point outliers**\n",
    "   5. **Local outliers**\n",
    "   6. **Contextual outliers**"
   ]
  },
  {
   "cell_type": "code",
   "execution_count": 1,
   "metadata": {},
   "outputs": [
    {
     "name": "stdout",
     "output_type": "stream",
     "text": [
      "Here is the data with outliers:     age   z_score\n",
      "0    20 -0.938954\n",
      "1    21 -0.806396\n",
      "2    22 -0.673838\n",
      "3    23 -0.541280\n",
      "4    24 -0.408721\n",
      "5    25 -0.276163\n",
      "6    26 -0.143605\n",
      "7    27 -0.011047\n",
      "8    28  0.121512\n",
      "9    29  0.254070\n",
      "10   30  0.386628\n",
      "11   50  3.037793\n",
      "--------------------------------\n",
      "Here are the outliers in the data     age   z_score\n",
      "11   50  3.037793: \n",
      "Here is the data after removing outliers:     age   z_score\n",
      "0    20 -0.938954\n",
      "1    21 -0.806396\n",
      "2    22 -0.673838\n",
      "3    23 -0.541280\n",
      "4    24 -0.408721\n",
      "5    25 -0.276163\n",
      "6    26 -0.143605\n",
      "7    27 -0.011047\n",
      "8    28  0.121512\n",
      "9    29  0.254070\n",
      "10   30  0.386628\n"
     ]
    }
   ],
   "source": [
    "# step1# import required libraries\n",
    "import pandas as pd\n",
    "import numpy as np\n",
    "\n",
    "\n",
    "# create dataset \n",
    "data = pd.DataFrame({'age': [20, 21, 22, 23, 24, 25, 26, 27, 28, 29, 30, 50]})\n",
    "\n",
    "# Calculate mean and standard deviation of data\n",
    "mean = np.mean(data['age'])\n",
    "std = np.std(data['age'])\n",
    "\n",
    "\n",
    "# calculate z score\n",
    "data['z_score'] = (data['age'] - mean) / std\n",
    "\n",
    "\n",
    "# print the data\n",
    "print(f'Here is the data with outliers: {data}')\n",
    "print('--------------------------------')\n",
    "\n",
    "# print the outliers\n",
    "print(f'Here are the outliers in the data {data[data[\"z_score\"] > 3]}: ')\n",
    "\n",
    "\n",
    "# remove outliers\n",
    "data = data[data['z_score'] <= 3]\n",
    "\n",
    "# print the data withut outliers\n",
    "print(f'Here is the data after removing outliers: {data}')\n"
   ]
  },
  {
   "cell_type": "code",
   "execution_count": 3,
   "metadata": {},
   "outputs": [
    {
     "name": "stdout",
     "output_type": "stream",
     "text": [
      "Data [2.5, 2.7, 2.8, 3.0, 3.2, 3.4, 3.6, 3.8, 4.0, 110.0]\n",
      "------------------------\n",
      "Indices of outliers: [9]\n",
      "Outliers: [110.0]\n",
      "------------------------------------\n",
      "Data after removing outliers: [2.5, 2.7, 2.8, 3.0, 3.2, 3.4, 3.6, 3.8, 4.0]\n"
     ]
    }
   ],
   "source": [
    "import numpy as np \n",
    "from scipy import stats\n",
    "\n",
    "# sample data\n",
    "data = [2.5, 2.7, 2.8, 3.0, 3.2, 3.4, 3.6, 3.8, 4.0, 110.0]\n",
    "\n",
    "# calculate the z score for each data point\n",
    "z_scores = np.abs(stats.zscore(data))\n",
    "\n",
    "# set a threshold for identifying outliers\n",
    "threshold = 2.5\n",
    "outliers = np.where(z_scores > threshold)[0]\n",
    "\n",
    "# print the data\n",
    "print('Data', data)\n",
    "print('------------------------')\n",
    "\n",
    "\n",
    "print('Indices of outliers:', outliers)\n",
    "print('Outliers:', [data[i] for i in outliers])\n",
    "\n",
    "# remove the outliers\n",
    "data = [data[i] for  i in range(len(data)) if i not in outliers]\n",
    "\n",
    "print('------------------------------------')\n",
    "print('Data after removing outliers:', data)\n",
    "\n",
    "\n",
    "\n",
    "\n"
   ]
  },
  {
   "cell_type": "code",
   "execution_count": null,
   "metadata": {},
   "outputs": [
    {
     "name": "stdout",
     "output_type": "stream",
     "text": [
      "Here is the data with outliers:     age\n",
      "0    20\n",
      "1    21\n",
      "2    22\n",
      "3    23\n",
      "4    24\n",
      "5    25\n",
      "6    26\n",
      "7    27\n",
      "8    28\n",
      "9    29\n",
      "10   30\n",
      "11   50\n",
      "--------------------------------------\n",
      "Outliers are:     age\n",
      "11   50\n",
      "--------------------------------------\n",
      "Here is the data without outliers:     age\n",
      "0    20\n",
      "1    21\n",
      "2    22\n",
      "3    23\n",
      "4    24\n",
      "5    25\n",
      "6    26\n",
      "7    27\n",
      "8    28\n",
      "9    29\n",
      "10   30\n"
     ]
    }
   ],
   "source": [
    "# import libraries\n",
    "import pandas as pd\n",
    "import numpy as np\n",
    "\n",
    "\n",
    "# create dataset \n",
    "data = pd.DataFrame({'age': [20, 21, 22, 23, 24, 25, 26, 27, 28, 29, 30, 50]})\n",
    "\n",
    "# calculate the first and 3rd quantile\n",
    "Q1 = np.percentile(data['age'],25, interpolation='midpoint')\n",
    "Q3 = np.percentile(data['age'],75, interpolation='midpoint')\n",
    "\n",
    "# calculate the IQR\n",
    "IQR = Q3 - Q1\n",
    "\n",
    "# calculate the lower and upper bound\n",
    "lower_bound = Q1 - 1.5 * IQR\n",
    "upper_bound = Q3 + 1.5 * IQR\n",
    "\n",
    "# print the data with outliers\n",
    "print(f'Here is the data with outliers: {data}')\n",
    "print('--------------------------------------')\n",
    "# print the outliers\n",
    "print(f\"Outliers are: {data[(data['age'] < lower_bound) | (data['age'] > upper_bound)]}\")\n",
    "print('--------------------------------------')\n",
    "# Remove the outlers\n",
    "data = data[(data['age'] > lower_bound) & (data['age'] < upper_bound)]\n",
    "# print the data withour outliers\n",
    "print(f'Here is the data without outliers: {data}')\n"
   ]
  },
  {
   "cell_type": "code",
   "execution_count": 9,
   "metadata": {},
   "outputs": [
    {
     "name": "stdout",
     "output_type": "stream",
     "text": [
      "Data [[2, 2], [3, 3], [3, 4], [30, 30], [31, 31], [32, 32]]\n",
      "-------------------------\n",
      "outliers [[2, 2], [3, 3], [3, 4]]\n",
      "--------------------------\n",
      "Data without outliers: [[30, 30], [31, 31], [32, 32]]\n"
     ]
    }
   ],
   "source": [
    "# import libraries\n",
    "from sklearn.cluster import KMeans\n",
    "\n",
    "# sample data\n",
    "data = [[2, 2], [3, 3], [3, 4], [30, 30], [31, 31], [32, 32]]\n",
    "\n",
    "# create the k-mean model with tw clusters (normal and outlers)\n",
    "k_mean= KMeans(n_clusters=2, n_init=10)\n",
    "k_mean.fit(data)\n",
    "\n",
    "# predict cluster label\n",
    "label = k_mean.predict(data)\n",
    "\n",
    "# identify outliers based on clusters label\n",
    "\n",
    "outliers = [data[i] for i, label in enumerate(label) if label == 1]\n",
    "# print the data \n",
    "print('Data', data)\n",
    "print('-------------------------')\n",
    "print('outliers', outliers)\n",
    "print('--------------------------')\n",
    "data =  [data[i] for i, label in enumerate(label) if label == 0]\n",
    "print('Data without outliers:', data)"
   ]
  }
 ],
 "metadata": {
  "kernelspec": {
   "display_name": "Python 3",
   "language": "python",
   "name": "python3"
  },
  "language_info": {
   "codemirror_mode": {
    "name": "ipython",
    "version": 3
   },
   "file_extension": ".py",
   "mimetype": "text/x-python",
   "name": "python",
   "nbconvert_exporter": "python",
   "pygments_lexer": "ipython3",
   "version": "3.11.11"
  }
 },
 "nbformat": 4,
 "nbformat_minor": 2
}

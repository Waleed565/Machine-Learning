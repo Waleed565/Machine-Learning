{
 "cells": [
  {
   "cell_type": "markdown",
   "metadata": {},
   "source": [
    "Written By: Hafiz Waleed Ahmad\\\n",
    "Email: waleedrajpoot5657@gmail.com\\\n",
    "Title: MACHINE LEARNING"
   ]
  },
  {
   "cell_type": "markdown",
   "metadata": {},
   "source": [
    "Here are some importatnt steps for Data Preprocessing.\n",
    "1. Data Cleaning\n",
    "    1. Missing values\n",
    "    2. Outliers\n",
    "    3. Smoothing noisy data\n",
    "    4. Inconsistency\n",
    "2. Data Integration\n",
    "    1. Data Duplicates\n",
    "    2. Data Merging\n",
    "    3. Data Consolidation\n",
    "3. Data Transformation\n",
    "    1. Scale\n",
    "    2. Normalize\n",
    "    3. Aggregate\n",
    "    4. Generalize\n",
    "    5. Higher level concepte\n",
    "4. Data reduction\n",
    "    1. Dimensionality Reduction\n",
    "    2. Numerosity Reduction\n",
    "    3. Data compressing\n",
    "5. Data Discretization\n",
    "    1. numeric to category\n",
    "   "
   ]
  }
 ],
 "metadata": {
  "kernelspec": {
   "display_name": "Python 3",
   "language": "python",
   "name": "python3"
  },
  "language_info": {
   "codemirror_mode": {
    "name": "ipython",
    "version": 3
   },
   "file_extension": ".py",
   "mimetype": "text/x-python",
   "name": "python",
   "nbconvert_exporter": "python",
   "pygments_lexer": "ipython3",
   "version": "3.11.11"
  }
 },
 "nbformat": 4,
 "nbformat_minor": 2
}
